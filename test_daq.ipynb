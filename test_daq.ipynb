{
 "cells": [
  {
   "cell_type": "code",
   "execution_count": 1,
   "metadata": {},
   "outputs": [],
   "source": [
    "import nidaqmx\n",
    "import time"
   ]
  },
  {
   "cell_type": "code",
   "execution_count": 8,
   "metadata": {},
   "outputs": [
    {
     "ename": "KeyboardInterrupt",
     "evalue": "",
     "output_type": "error",
     "traceback": [
      "\u001b[1;31m---------------------------------------------------------------------------\u001b[0m",
      "\u001b[1;31mKeyboardInterrupt\u001b[0m                         Traceback (most recent call last)",
      "Cell \u001b[1;32mIn[8], line 10\u001b[0m\n\u001b[0;32m      8\u001b[0m time\u001b[39m.\u001b[39msleep(\u001b[39m0.001\u001b[39m)\n\u001b[0;32m      9\u001b[0m task\u001b[39m.\u001b[39mwrite(\u001b[39mFalse\u001b[39;00m)\n\u001b[1;32m---> 10\u001b[0m time\u001b[39m.\u001b[39;49msleep(\u001b[39m0.001\u001b[39;49m)\n",
      "\u001b[1;31mKeyboardInterrupt\u001b[0m: "
     ]
    }
   ],
   "source": [
    "\n",
    "with nidaqmx.Task() as task:\n",
    "    # 添加数字输出通道\n",
    "    task.do_channels.add_do_chan(\"Dev1/port0/line1\")\n",
    "    while True:\n",
    "\n",
    "    # 输出TTL信号\n",
    "        task.write(True)\n",
    "        time.sleep(0.001)\n",
    "        task.write(False)\n",
    "        time.sleep(0.001)\n",
    "\n"
   ]
  },
  {
   "cell_type": "code",
   "execution_count": 9,
   "metadata": {},
   "outputs": [
    {
     "name": "stdout",
     "output_type": "stream",
     "text": [
      "False\n"
     ]
    },
    {
     "ename": "DaqError",
     "evalue": "Specified channel cannot be added to the task, because a channel with the same name is already in the task.\nChannel Name: Dev1/port0/line1\n\nTask Name: _unnamedTask<7>\n\nStatus Code: -200489",
     "output_type": "error",
     "traceback": [
      "\u001b[1;31m---------------------------------------------------------------------------\u001b[0m",
      "\u001b[1;31mDaqError\u001b[0m                                  Traceback (most recent call last)",
      "Cell \u001b[1;32mIn[9], line 3\u001b[0m\n\u001b[0;32m      1\u001b[0m \u001b[39mwith\u001b[39;00m nidaqmx\u001b[39m.\u001b[39mTask() \u001b[39mas\u001b[39;00m task:\n\u001b[0;32m      2\u001b[0m     \u001b[39mwhile\u001b[39;00m \u001b[39mTrue\u001b[39;00m:\n\u001b[1;32m----> 3\u001b[0m         di \u001b[39m=\u001b[39m task\u001b[39m.\u001b[39;49mdi_channels\u001b[39m.\u001b[39;49madd_di_chan(\u001b[39m\"\u001b[39;49m\u001b[39mDev1/port0/line1\u001b[39;49m\u001b[39m\"\u001b[39;49m)\n\u001b[0;32m      4\u001b[0m         data \u001b[39m=\u001b[39m task\u001b[39m.\u001b[39mread()\n\u001b[0;32m      5\u001b[0m         time\u001b[39m.\u001b[39msleep(\u001b[39m0.1\u001b[39m)\n",
      "File \u001b[1;32mf:\\anaconda\\envs\\polarizer_sweep\\lib\\site-packages\\nidaqmx\\_task_modules\\di_channel_collection.py:100\u001b[0m, in \u001b[0;36mDIChannelCollection.add_di_chan\u001b[1;34m(self, lines, name_to_assign_to_lines, line_grouping)\u001b[0m\n\u001b[0;32m     94\u001b[0m             cfunc\u001b[39m.\u001b[39margtypes \u001b[39m=\u001b[39m [\n\u001b[0;32m     95\u001b[0m                 lib_importer\u001b[39m.\u001b[39mtask_handle, ctypes_byte_str,\n\u001b[0;32m     96\u001b[0m                 ctypes_byte_str, ctypes\u001b[39m.\u001b[39mc_int]\n\u001b[0;32m     98\u001b[0m error_code \u001b[39m=\u001b[39m cfunc(\n\u001b[0;32m     99\u001b[0m     \u001b[39mself\u001b[39m\u001b[39m.\u001b[39m_handle, lines, name_to_assign_to_lines, line_grouping\u001b[39m.\u001b[39mvalue)\n\u001b[1;32m--> 100\u001b[0m check_for_error(error_code)\n\u001b[0;32m    102\u001b[0m \u001b[39mreturn\u001b[39;00m \u001b[39mself\u001b[39m\u001b[39m.\u001b[39m_create_chan(lines, line_grouping, name_to_assign_to_lines)\n",
      "File \u001b[1;32mf:\\anaconda\\envs\\polarizer_sweep\\lib\\site-packages\\nidaqmx\\errors.py:196\u001b[0m, in \u001b[0;36mcheck_for_error\u001b[1;34m(error_code, samps_per_chan_written, samps_per_chan_read)\u001b[0m\n\u001b[0;32m    194\u001b[0m         \u001b[39mraise\u001b[39;00m DaqWriteError(error_buffer\u001b[39m.\u001b[39mvalue\u001b[39m.\u001b[39mdecode(\u001b[39m\"\u001b[39m\u001b[39mutf-8\u001b[39m\u001b[39m\"\u001b[39m), error_code, samps_per_chan_written)\n\u001b[0;32m    195\u001b[0m     \u001b[39melse\u001b[39;00m:\n\u001b[1;32m--> 196\u001b[0m         \u001b[39mraise\u001b[39;00m DaqError(error_buffer\u001b[39m.\u001b[39mvalue\u001b[39m.\u001b[39mdecode(\u001b[39m\"\u001b[39m\u001b[39mutf-8\u001b[39m\u001b[39m\"\u001b[39m), error_code)\n\u001b[0;32m    198\u001b[0m \u001b[39melif\u001b[39;00m error_code \u001b[39m>\u001b[39m \u001b[39m0\u001b[39m:\n\u001b[0;32m    199\u001b[0m     error_buffer \u001b[39m=\u001b[39m ctypes\u001b[39m.\u001b[39mcreate_string_buffer(\u001b[39m2048\u001b[39m)\n",
      "\u001b[1;31mDaqError\u001b[0m: Specified channel cannot be added to the task, because a channel with the same name is already in the task.\nChannel Name: Dev1/port0/line1\n\nTask Name: _unnamedTask<7>\n\nStatus Code: -200489"
     ]
    }
   ],
   "source": [
    "with nidaqmx.Task() as task:\n",
    "    while True:\n",
    "        di = task.di_channels.add_di_chan(\"Dev1/port0/line1\")\n",
    "        data = task.read()\n",
    "        time.sleep(0.1)\n",
    "\n",
    "        print(data)\n"
   ]
  },
  {
   "cell_type": "code",
   "execution_count": null,
   "metadata": {},
   "outputs": [
    {
     "name": "stdout",
     "output_type": "stream",
     "text": [
      "False\n"
     ]
    },
    {
     "ename": "DaqError",
     "evalue": "Specified channel cannot be added to the task, because a channel with the same name is already in the task.\nChannel Name: Dev1/port0/line1\n\nTask Name: _unnamedTask<7>\n\nStatus Code: -200489",
     "output_type": "error",
     "traceback": [
      "\u001b[1;31m---------------------------------------------------------------------------\u001b[0m\n",
      "\u001b[1;31mDaqError\u001b[0m                                  Traceback (most recent call last)\n",
      "Cell \u001b[1;32mIn[9], line 3\u001b[0m\n",
      "\u001b[0;32m      1\u001b[0m \u001b[39mwith\u001b[39;00m nidaqmx\u001b[39m.\u001b[39mTask() \u001b[39mas\u001b[39;00m task:\n",
      "\u001b[0;32m      2\u001b[0m     \u001b[39mwhile\u001b[39;00m \u001b[39mTrue\u001b[39;00m:\n",
      "\u001b[1;32m----> 3\u001b[0m         di \u001b[39m=\u001b[39m task\u001b[39m.\u001b[39;49mdi_channels\u001b[39m.\u001b[39;49madd_di_chan(\u001b[39m\"\u001b[39;49m\u001b[39mDev1/port0/line1\u001b[39;49m\u001b[39m\"\u001b[39;49m)\n",
      "\u001b[0;32m      4\u001b[0m         data \u001b[39m=\u001b[39m task\u001b[39m.\u001b[39mread()\n",
      "\u001b[0;32m      5\u001b[0m         time\u001b[39m.\u001b[39msleep(\u001b[39m0.1\u001b[39m)\n",
      "\n",
      "File \u001b[1;32mf:\\anaconda\\envs\\polarizer_sweep\\lib\\site-packages\\nidaqmx\\_task_modules\\di_channel_collection.py:100\u001b[0m, in \u001b[0;36mDIChannelCollection.add_di_chan\u001b[1;34m(self, lines, name_to_assign_to_lines, line_grouping)\u001b[0m\n",
      "\u001b[0;32m     94\u001b[0m             cfunc\u001b[39m.\u001b[39margtypes \u001b[39m=\u001b[39m [\n",
      "\u001b[0;32m     95\u001b[0m                 lib_importer\u001b[39m.\u001b[39mtask_handle, ctypes_byte_str,\n",
      "\u001b[0;32m     96\u001b[0m                 ctypes_byte_str, ctypes\u001b[39m.\u001b[39mc_int]\n",
      "\u001b[0;32m     98\u001b[0m error_code \u001b[39m=\u001b[39m cfunc(\n",
      "\u001b[0;32m     99\u001b[0m     \u001b[39mself\u001b[39m\u001b[39m.\u001b[39m_handle, lines, name_to_assign_to_lines, line_grouping\u001b[39m.\u001b[39mvalue)\n",
      "\u001b[1;32m--> 100\u001b[0m check_for_error(error_code)\n",
      "\u001b[0;32m    102\u001b[0m \u001b[39mreturn\u001b[39;00m \u001b[39mself\u001b[39m\u001b[39m.\u001b[39m_create_chan(lines, line_grouping, name_to_assign_to_lines)\n",
      "\n",
      "File \u001b[1;32mf:\\anaconda\\envs\\polarizer_sweep\\lib\\site-packages\\nidaqmx\\errors.py:196\u001b[0m, in \u001b[0;36mcheck_for_error\u001b[1;34m(error_code, samps_per_chan_written, samps_per_chan_read)\u001b[0m\n",
      "\u001b[0;32m    194\u001b[0m         \u001b[39mraise\u001b[39;00m DaqWriteError(error_buffer\u001b[39m.\u001b[39mvalue\u001b[39m.\u001b[39mdecode(\u001b[39m\"\u001b[39m\u001b[39mutf-8\u001b[39m\u001b[39m\"\u001b[39m), error_code, samps_per_chan_written)\n",
      "\u001b[0;32m    195\u001b[0m     \u001b[39melse\u001b[39;00m:\n",
      "\u001b[1;32m--> 196\u001b[0m         \u001b[39mraise\u001b[39;00m DaqError(error_buffer\u001b[39m.\u001b[39mvalue\u001b[39m.\u001b[39mdecode(\u001b[39m\"\u001b[39m\u001b[39mutf-8\u001b[39m\u001b[39m\"\u001b[39m), error_code)\n",
      "\u001b[0;32m    198\u001b[0m \u001b[39melif\u001b[39;00m error_code \u001b[39m>\u001b[39m \u001b[39m0\u001b[39m:\n",
      "\u001b[0;32m    199\u001b[0m     error_buffer \u001b[39m=\u001b[39m ctypes\u001b[39m.\u001b[39mcreate_string_buffer(\u001b[39m2048\u001b[39m)\n",
      "\n",
      "\u001b[1;31mDaqError\u001b[0m: Specified channel cannot be added to the task, because a channel with the same name is already in the task.\n",
      "Channel Name: Dev1/port0/line1\n",
      "\n",
      "Task Name: _unnamedTask<7>\n",
      "\n",
      "Status Code: -200489"
     ]
    }
   ],
   "source": [
    "with nidaqmx.Task() as task:\n",
    "    while True:\n",
    "        di = task.di_channels.add_di_chan(\"Dev1/port0/line1\")\n",
    "        data = task.read()\n",
    "        time.sleep(0.1)\n",
    "\n",
    "        print(data)\n"
   ]
  }
 ],
 "metadata": {
  "kernelspec": {
   "display_name": "Python 3",
   "language": "python",
   "name": "python3"
  },
  "language_info": {
   "codemirror_mode": {
    "name": "ipython",
    "version": 3
   },
   "file_extension": ".py",
   "mimetype": "text/x-python",
   "name": "python",
   "nbconvert_exporter": "python",
   "pygments_lexer": "ipython3",
   "version": "3.9.16"
  },
  "orig_nbformat": 4
 },
 "nbformat": 4,
 "nbformat_minor": 2
}
