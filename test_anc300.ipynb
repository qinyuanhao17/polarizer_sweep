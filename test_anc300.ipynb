{
 "cells": [
  {
   "cell_type": "code",
   "execution_count": 1,
   "metadata": {},
   "outputs": [],
   "source": [
    "import serial\n",
    "import time\n",
    "anc300 = serial.Serial('COM7',115200,timeout=1)\n",
    "time.sleep(0.1)\n"
   ]
  },
  {
   "cell_type": "code",
   "execution_count": 4,
   "metadata": {},
   "outputs": [],
   "source": [
    "anc300.close()"
   ]
  },
  {
   "cell_type": "code",
   "execution_count": 5,
   "metadata": {},
   "outputs": [
    {
     "ename": "PortNotOpenError",
     "evalue": "Attempting to use a port that is not open",
     "output_type": "error",
     "traceback": [
      "\u001b[1;31m---------------------------------------------------------------------------\u001b[0m",
      "\u001b[1;31mPortNotOpenError\u001b[0m                          Traceback (most recent call last)",
      "Cell \u001b[1;32mIn[5], line 1\u001b[0m\n\u001b[1;32m----> 1\u001b[0m rtn \u001b[39m=\u001b[39m anc300\u001b[39m.\u001b[39;49mwrite(\u001b[39mb\u001b[39;49m\u001b[39m'\u001b[39;49m\u001b[39msetm 1 stp \u001b[39;49m\u001b[39m\\r\u001b[39;49;00m\u001b[39m\\n\u001b[39;49;00m\u001b[39m'\u001b[39;49m)\n\u001b[0;32m      2\u001b[0m \u001b[39mwhile\u001b[39;00m \u001b[39mTrue\u001b[39;00m:\n\u001b[0;32m      3\u001b[0m     response \u001b[39m=\u001b[39m anc300\u001b[39m.\u001b[39mreadlines()\n",
      "File \u001b[1;32mf:\\anaconda\\envs\\polarizer_sweep\\lib\\site-packages\\serial\\serialwin32.py:306\u001b[0m, in \u001b[0;36mSerial.write\u001b[1;34m(self, data)\u001b[0m\n\u001b[0;32m    304\u001b[0m \u001b[39m\u001b[39m\u001b[39m\"\"\"Output the given byte string over the serial port.\"\"\"\u001b[39;00m\n\u001b[0;32m    305\u001b[0m \u001b[39mif\u001b[39;00m \u001b[39mnot\u001b[39;00m \u001b[39mself\u001b[39m\u001b[39m.\u001b[39mis_open:\n\u001b[1;32m--> 306\u001b[0m     \u001b[39mraise\u001b[39;00m PortNotOpenError()\n\u001b[0;32m    307\u001b[0m \u001b[39m#~ if not isinstance(data, (bytes, bytearray)):\u001b[39;00m\n\u001b[0;32m    308\u001b[0m     \u001b[39m#~ raise TypeError('expected %s or bytearray, got %s' % (bytes, type(data)))\u001b[39;00m\n\u001b[0;32m    309\u001b[0m \u001b[39m# convert data (needed in case of memoryview instance: Py 3.1 io lib), ctypes doesn't like memoryview\u001b[39;00m\n\u001b[0;32m    310\u001b[0m data \u001b[39m=\u001b[39m to_bytes(data)\n",
      "\u001b[1;31mPortNotOpenError\u001b[0m: Attempting to use a port that is not open"
     ]
    }
   ],
   "source": [
    "rtn = anc300.write(b'setm 1 stp \\r\\n')\n",
    "while True:\n",
    "    response = anc300.readlines()\n",
    "    if response:\n",
    "        for line in response:\n",
    "            line = str(line.rstrip(),'utf-8')              \n",
    "            print(line)\n",
    "    else:\n",
    "        break\n",
    "# time.sleep(2)\n",
    "rtn = anc300.write(b'setf 1 100 \\r\\n')\n",
    "while True:\n",
    "    response = anc300.readlines()\n",
    "    if response:\n",
    "        for line in response:\n",
    "            line = str(line.rstrip(),'utf-8')              \n",
    "            print(line)\n",
    "    else:\n",
    "        break\n",
    "# time.sleep(2)\n",
    "rtn = anc300.write(b'setv 1 30 \\r\\n')\n",
    "while True:\n",
    "    response = anc300.readlines()\n",
    "    if response:\n",
    "        for line in response:\n",
    "            line = str(line.rstrip(),'utf-8')              \n",
    "            print(line)\n",
    "    else:\n",
    "        break"
   ]
  },
  {
   "cell_type": "code",
   "execution_count": 3,
   "metadata": {},
   "outputs": [
    {
     "name": "stdout",
     "output_type": "stream",
     "text": [
      "stepu 1 1000\n",
      "OK\n",
      ">\n",
      "stepw 1\n"
     ]
    }
   ],
   "source": [
    "rtn = anc300.write(b'stepu 1 1000\\r\\n')\n",
    "while True:\n",
    "    response = anc300.readlines()\n",
    "    if response:\n",
    "        for line in response:\n",
    "            line = str(line.rstrip(),'utf-8')              \n",
    "            print(line)\n",
    "    else:\n",
    "        break\n",
    "rtn = anc300.write(b'stepw 1 \\r\\n')\n",
    "while True:\n",
    "    response = anc300.readlines()\n",
    "    if response:\n",
    "        for line in response:\n",
    "            line = str(line.rstrip(),'utf-8')              \n",
    "            print(line)\n",
    "    else:\n",
    "        break   "
   ]
  },
  {
   "cell_type": "code",
   "execution_count": 35,
   "metadata": {},
   "outputs": [
    {
     "name": "stdout",
     "output_type": "stream",
     "text": [
      "\n",
      "OK\n",
      "> stepd 1 1000\n",
      "OK\n",
      ">\n",
      "stepw 1\n"
     ]
    }
   ],
   "source": [
    "rtn = anc300.write(b'stepd 1 1000 \\r\\n')\n",
    "while True:\n",
    "    response = anc300.readlines()\n",
    "    if response:\n",
    "        for line in response:\n",
    "            line = str(line.rstrip(),'utf-8')              \n",
    "            print(line)\n",
    "    else:\n",
    "        break\n",
    "\n",
    "rtn = anc300.write(b'stepw 1 \\r\\n')\n",
    "while True:\n",
    "    response = anc300.readlines()\n",
    "    if response:\n",
    "        for line in response:\n",
    "            line = str(line.rstrip(),'utf-8')              \n",
    "            print(line)\n",
    "    else:\n",
    "        break   "
   ]
  }
 ],
 "metadata": {
  "kernelspec": {
   "display_name": "Python 3",
   "language": "python",
   "name": "python3"
  },
  "language_info": {
   "codemirror_mode": {
    "name": "ipython",
    "version": 3
   },
   "file_extension": ".py",
   "mimetype": "text/x-python",
   "name": "python",
   "nbconvert_exporter": "python",
   "pygments_lexer": "ipython3",
   "version": "3.9.16"
  },
  "orig_nbformat": 4
 },
 "nbformat": 4,
 "nbformat_minor": 2
}
