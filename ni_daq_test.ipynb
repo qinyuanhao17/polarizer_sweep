{
 "cells": [
  {
   "cell_type": "code",
   "execution_count": 1,
   "metadata": {},
   "outputs": [],
   "source": [
    "import nidaqmx"
   ]
  },
  {
   "cell_type": "code",
   "execution_count": null,
   "metadata": {},
   "outputs": [],
   "source": [
    "with nidaqmx.Task() as task:\n",
    "    # 创建输出通道\n",
    "    task.do_channels.add_do_chan('Dev1/port0/line0')\n",
    "    # 创建输入通道\n",
    "    task.di_channels.add_di_chan('Dev1/port1/line0')"
   ]
  },
  {
   "cell_type": "code",
   "execution_count": null,
   "metadata": {},
   "outputs": [],
   "source": [
    "with nidaqmx.Task() as task:\n",
    "    # 创建输出通道\n",
    "    task.do_channels.add_do_chan('Dev1/port0/line0')\n",
    "    # 设置输出通道为高电平\n",
    "    task.write(True)"
   ]
  },
  {
   "cell_type": "code",
   "execution_count": null,
   "metadata": {},
   "outputs": [],
   "source": [
    "with nidaqmx.Task() as task:\n",
    "    # 创建输入通道\n",
    "    task.di_channels.add_di_chan('Dev1/port1/line0')\n",
    "    # 读取输入通道状态\n",
    "    value = task.read()\n",
    "    # 打印输入通道状态\n",
    "    print(value)"
   ]
  },
  {
   "cell_type": "code",
   "execution_count": null,
   "metadata": {},
   "outputs": [],
   "source": [
    "import nidaqmx\n",
    "\n",
    "with nidaqmx.Task() as task:\n",
    "    task.do_channels.add_do_chan(\"Dev1/port0/line0\") # 通道名称，此处为第1个线路\n",
    "    task.timing.cfg_samp_clk_timing(rate=1000.0, sample_mode=nidaqmx.constants.AcquisitionType.CONTINUOUS)\n",
    "\n",
    "    task.write(True)  # 将信号设为高电平\n",
    "    task.write(False) # 将信号设为低电平\n",
    "\n",
    "    task.stop() # 停止任务"
   ]
  }
 ],
 "metadata": {
  "kernelspec": {
   "display_name": "Python 3",
   "language": "python",
   "name": "python3"
  },
  "language_info": {
   "codemirror_mode": {
    "name": "ipython",
    "version": 3
   },
   "file_extension": ".py",
   "mimetype": "text/x-python",
   "name": "python",
   "nbconvert_exporter": "python",
   "pygments_lexer": "ipython3",
   "version": "3.9.16"
  },
  "orig_nbformat": 4
 },
 "nbformat": 4,
 "nbformat_minor": 2
}
