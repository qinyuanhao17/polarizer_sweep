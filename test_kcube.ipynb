{
 "cells": [
  {
   "cell_type": "code",
   "execution_count": 6,
   "metadata": {},
   "outputs": [],
   "source": [
    "import os\n",
    "import time\n",
    "import sys\n",
    "import clr\n",
    "\n",
    "clr.AddReference(\"C:\\\\Program Files\\\\Thorlabs\\\\Kinesis\\\\Thorlabs.MotionControl.DeviceManagerCLI.dll\")\n",
    "clr.AddReference(\"C:\\\\Program Files\\\\Thorlabs\\\\Kinesis\\\\Thorlabs.MotionControl.GenericMotorCLI.dll\")\n",
    "clr.AddReference(\"C:\\\\Program Files\\\\Thorlabs\\\\Kinesis\\\\ThorLabs.MotionControl.KCube.InertialMotorCLI.dll\")\n",
    "from Thorlabs.MotionControl.DeviceManagerCLI import *\n",
    "from Thorlabs.MotionControl.GenericMotorCLI import *\n",
    "from Thorlabs.MotionControl.KCube.InertialMotorCLI import *\n",
    "from Thorlabs.MotionControl.KCube.InertialMotorCLI import KCubeInertialMotor\n",
    "from System import Decimal  # necessary for real world units\n",
    "\n"
   ]
  },
  {
   "cell_type": "code",
   "execution_count": 7,
   "metadata": {},
   "outputs": [
    {
     "ename": "DeviceNotReadyException",
     "evalue": "Device is not connected\r\n   在 Thorlabs.MotionControl.DeviceManagerCLI.ThorlabsGenericCoreDeviceCLI.VerifyDeviceConnected(Int32 functionDepth)\r\n   在 Thorlabs.MotionControl.KCube.InertialMotorCLI.KCubeInertialMotor.Connect(String serialNumber)",
     "output_type": "error",
     "traceback": [
      "\u001b[1;31m---------------------------------------------------------------------------\u001b[0m",
      "\u001b[1;31mDeviceNotReadyException\u001b[0m                   Traceback (most recent call last)",
      "Cell \u001b[1;32mIn[7], line 8\u001b[0m\n\u001b[0;32m      6\u001b[0m time\u001b[39m.\u001b[39msleep(\u001b[39m0.25\u001b[39m)\n\u001b[0;32m      7\u001b[0m \u001b[39m# Connect to device. \u001b[39;00m\n\u001b[1;32m----> 8\u001b[0m device\u001b[39m.\u001b[39;49mConnect(serial_no)\n\u001b[0;32m      9\u001b[0m \u001b[39m# Start polling and enable channel\u001b[39;00m\n\u001b[0;32m     10\u001b[0m device\u001b[39m.\u001b[39mStartPolling(\u001b[39m250\u001b[39m)\n",
      "\u001b[1;31mDeviceNotReadyException\u001b[0m: Device is not connected\r\n   在 Thorlabs.MotionControl.DeviceManagerCLI.ThorlabsGenericCoreDeviceCLI.VerifyDeviceConnected(Int32 functionDepth)\r\n   在 Thorlabs.MotionControl.KCube.InertialMotorCLI.KCubeInertialMotor.Connect(String serialNumber)"
     ]
    }
   ],
   "source": [
    "SimulationManager.Instance.InitializeSimulations()\n",
    "DeviceManagerCLI.BuildDeviceList()\n",
    "# create new device\n",
    "serial_no = \"97102338\"  # Replace this line with your device's serial number\n",
    "device = KCubeInertialMotor.CreateKCubeInertialMotor(serial_no)\n",
    "time.sleep(0.25)\n",
    "# Connect to device. \n",
    "device.Connect(serial_no)\n",
    "# Start polling and enable channel\n",
    "device.StartPolling(250)\n",
    "device.EnableDevice()\n",
    "# Get Device Information and display description\n",
    "device_info = device.GetDeviceInfo()\n",
    "print(device_info.Description)\n",
    "\n",
    "# Load any configuration settings needed by the controller/stage\n",
    "inertial_motor_config = device.GetInertialMotorConfiguration(serial_no)\n",
    "device_settings = ThorlabsInertialMotorSettings.GetSettings(inertial_motor_config)\n",
    "\n",
    "# Step parameters for an intertial motor channel\n",
    "chan1 = InertialMotorStatus.MotorChannels.Channel1  # enum chan ident\n",
    "device_settings.Drive.Channel(chan1).StepRate = 500\n",
    "device_settings.Drive.Channel(chan1).StepAcceleration = 100000\n",
    "# Send settings to the device\n",
    "device.SetSettings(device_settings, True, True)\n",
    "# Step parameters for an intertial motor channel\n",
    "chan1 = InertialMotorStatus.MotorChannels.Channel2  # enum chan ident\n",
    "device_settings.Drive.Channel(chan2).StepRate = 500\n",
    "device_settings.Drive.Channel(chan2).StepAcceleration = 100000\n",
    "# Send settings to the device\n",
    "device.SetSettings(device_settings, True, True)"
   ]
  },
  {
   "cell_type": "code",
   "execution_count": 8,
   "metadata": {},
   "outputs": [
    {
     "name": "stdout",
     "output_type": "stream",
     "text": [
      "Zeroing device\n"
     ]
    },
    {
     "ename": "DeviceNotReadyException",
     "evalue": "Device is not connected\r\n   在 Thorlabs.MotionControl.DeviceManagerCLI.ThorlabsGenericCoreDeviceCLI.VerifyDeviceConnected(Int32 functionDepth)\r\n   在 Thorlabs.MotionControl.KCube.InertialMotorCLI.KCubeInertialMotor.SetPositionAs(MotorChannels channel, Int32 position)",
     "output_type": "error",
     "traceback": [
      "\u001b[1;31m---------------------------------------------------------------------------\u001b[0m",
      "\u001b[1;31mDeviceNotReadyException\u001b[0m                   Traceback (most recent call last)",
      "Cell \u001b[1;32mIn[8], line 3\u001b[0m\n\u001b[0;32m      1\u001b[0m \u001b[39m# Home or Zero the device (if a motor/piezo)\u001b[39;00m\n\u001b[0;32m      2\u001b[0m \u001b[39mprint\u001b[39m(\u001b[39m\"\u001b[39m\u001b[39mZeroing device\u001b[39m\u001b[39m\"\u001b[39m)\n\u001b[1;32m----> 3\u001b[0m device\u001b[39m.\u001b[39;49mSetPositionAs(chan1, \u001b[39m0\u001b[39;49m)\n\u001b[0;32m      4\u001b[0m \u001b[39m# Home or Zero the device (if a motor/piezo)\u001b[39;00m\n\u001b[0;32m      5\u001b[0m \u001b[39mprint\u001b[39m(\u001b[39m\"\u001b[39m\u001b[39mZeroing device\u001b[39m\u001b[39m\"\u001b[39m)\n",
      "\u001b[1;31mDeviceNotReadyException\u001b[0m: Device is not connected\r\n   在 Thorlabs.MotionControl.DeviceManagerCLI.ThorlabsGenericCoreDeviceCLI.VerifyDeviceConnected(Int32 functionDepth)\r\n   在 Thorlabs.MotionControl.KCube.InertialMotorCLI.KCubeInertialMotor.SetPositionAs(MotorChannels channel, Int32 position)"
     ]
    }
   ],
   "source": [
    "# Home or Zero the device (if a motor/piezo)\n",
    "print(\"Zeroing device\")\n",
    "device.SetPositionAs(chan1, 0)\n",
    "# Home or Zero the device (if a motor/piezo)\n",
    "print(\"Zeroing device\")\n",
    "device.SetPositionAs(chan2, 0)"
   ]
  }
 ],
 "metadata": {
  "kernelspec": {
   "display_name": "Python 3",
   "language": "python",
   "name": "python3"
  },
  "language_info": {
   "codemirror_mode": {
    "name": "ipython",
    "version": 3
   },
   "file_extension": ".py",
   "mimetype": "text/x-python",
   "name": "python",
   "nbconvert_exporter": "python",
   "pygments_lexer": "ipython3",
   "version": "3.9.16"
  },
  "orig_nbformat": 4
 },
 "nbformat": 4,
 "nbformat_minor": 2
}
