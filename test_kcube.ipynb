{
 "cells": [
  {
   "cell_type": "code",
   "execution_count": 117,
   "metadata": {},
   "outputs": [],
   "source": [
    "import os\n",
    "import time\n",
    "import sys\n",
    "import clr\n",
    "\n",
    "clr.AddReference(\"C:\\\\Program Files\\\\Thorlabs\\\\Kinesis\\\\Thorlabs.MotionControl.DeviceManagerCLI.dll\")\n",
    "clr.AddReference(\"C:\\\\Program Files\\\\Thorlabs\\\\Kinesis\\\\Thorlabs.MotionControl.GenericMotorCLI.dll\")\n",
    "clr.AddReference(\"C:\\\\Program Files\\\\Thorlabs\\\\Kinesis\\\\ThorLabs.MotionControl.KCube.InertialMotorCLI.dll\")\n",
    "from Thorlabs.MotionControl.DeviceManagerCLI import *\n",
    "from Thorlabs.MotionControl.GenericMotorCLI import *\n",
    "from Thorlabs.MotionControl.KCube.InertialMotorCLI import *\n",
    "from Thorlabs.MotionControl.KCube.InertialMotorCLI import KCubeInertialMotor\n",
    "from System import Decimal  # necessary for real world units\n",
    "\n"
   ]
  },
  {
   "cell_type": "code",
   "execution_count": 105,
   "metadata": {},
   "outputs": [
    {
     "name": "stdout",
     "output_type": "stream",
     "text": [
      "KIM101 Motor Controller \n",
      "True\n"
     ]
    }
   ],
   "source": [
    "SimulationManager.Instance.InitializeSimulations()\n",
    "DeviceManagerCLI.BuildDeviceList()\n",
    "# create new device\n",
    "serial_no = \"97102338\"  # Replace this line with your device's serial number\n",
    "device = KCubeInertialMotor.CreateKCubeInertialMotor(serial_no)\n",
    "time.sleep(0.25)\n",
    "# Connect to device. \n",
    "device.Connect(serial_no)\n",
    "# Start polling and enable channel\n",
    "device.StartPolling(250)\n",
    "device.EnableDevice()\n",
    "# Get Device Information and display description\n",
    "device_info = device.GetDeviceInfo()\n",
    "print(device_info.Description)\n",
    "print(device.IsConnected)\n",
    "# Load any configuration settings needed by the controller/stage\n",
    "inertial_motor_config = device.GetInertialMotorConfiguration(serial_no)\n",
    "device_settings = ThorlabsInertialMotorSettings.GetSettings(inertial_motor_config)\n",
    "\n"
   ]
  },
  {
   "cell_type": "code",
   "execution_count": 106,
   "metadata": {},
   "outputs": [],
   "source": [
    "# Step parameters for an intertial motor channel\n",
    "chan1 = InertialMotorStatus.MotorChannels.Channel1  # enum chan ident\n",
    "device_settings.Drive.Channel(chan1).StepRate = 500\n",
    "device_settings.Drive.Channel(chan1).StepAcceleration = 100000\n",
    "# Send settings to the device\n",
    "device.SetSettings(device_settings, True, True)\n",
    "# Step parameters for an intertial motor channel\n",
    "chan2 = InertialMotorStatus.MotorChannels.Channel2  # enum chan ident\n",
    "device_settings.Drive.Channel(chan2).StepRate = 500\n",
    "device_settings.Drive.Channel(chan2).StepAcceleration = 100000\n",
    "# Send settings to the device\n",
    "device.SetSettings(device_settings, True, True)"
   ]
  },
  {
   "cell_type": "code",
   "execution_count": 98,
   "metadata": {},
   "outputs": [
    {
     "name": "stdout",
     "output_type": "stream",
     "text": [
      "Zeroing device\n",
      "Zeroing device\n"
     ]
    }
   ],
   "source": [
    "# Home or Zero the device (if a motor/piezo)\n",
    "print(\"Zeroing device\")\n",
    "device.SetPositionAs(chan1, 0)\n",
    "# Home or Zero the device (if a motor/piezo)\n",
    "print(\"Zeroing device\")\n",
    "device.SetPositionAs(chan2, 0)"
   ]
  },
  {
   "cell_type": "code",
   "execution_count": 113,
   "metadata": {},
   "outputs": [
    {
     "name": "stdout",
     "output_type": "stream",
     "text": [
      "Moving to position 2000\n",
      "Move Complete\n"
     ]
    }
   ],
   "source": [
    "new_pos = int(2000)\n",
    "print(f'Moving to position {new_pos}')\n",
    "# Pythonnet will infer which method to use:\n",
    "device.MoveTo(chan1, new_pos, 60000)  # 60 second timeout\n",
    "print(\"Move Complete\")"
   ]
  },
  {
   "cell_type": "code",
   "execution_count": 115,
   "metadata": {},
   "outputs": [
    {
     "data": {
      "text/plain": [
       "False"
      ]
     },
     "execution_count": 115,
     "metadata": {},
     "output_type": "execute_result"
    }
   ],
   "source": [
    "device.IsAnyChannelMoving()"
   ]
  },
  {
   "cell_type": "code",
   "execution_count": null,
   "metadata": {},
   "outputs": [],
   "source": []
  },
  {
   "cell_type": "code",
   "execution_count": 114,
   "metadata": {},
   "outputs": [
    {
     "data": {
      "text/plain": [
       "2000"
      ]
     },
     "execution_count": 114,
     "metadata": {},
     "output_type": "execute_result"
    }
   ],
   "source": [
    "device.GetPosition(chan2)"
   ]
  },
  {
   "cell_type": "code",
   "execution_count": 116,
   "metadata": {},
   "outputs": [],
   "source": [
    "# Stop Polling and Disconnect\n",
    "device.StopPolling()\n",
    "device.Disconnect()"
   ]
  }
 ],
 "metadata": {
  "kernelspec": {
   "display_name": "Python 3",
   "language": "python",
   "name": "python3"
  },
  "language_info": {
   "codemirror_mode": {
    "name": "ipython",
    "version": 3
   },
   "file_extension": ".py",
   "mimetype": "text/x-python",
   "name": "python",
   "nbconvert_exporter": "python",
   "pygments_lexer": "ipython3",
   "version": "3.9.16"
  },
  "orig_nbformat": 4
 },
 "nbformat": 4,
 "nbformat_minor": 2
}
