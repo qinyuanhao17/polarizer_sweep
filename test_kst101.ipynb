{
 "cells": [
  {
   "cell_type": "code",
   "execution_count": 33,
   "metadata": {},
   "outputs": [],
   "source": [
    "import os\n",
    "import time\n",
    "import sys\n",
    "import clr\n",
    "\n",
    "# Add References to .NET libraries\n",
    "clr.AddReference(\"C:\\\\Program Files\\\\Thorlabs\\\\Kinesis\\\\Thorlabs.MotionControl.DeviceManagerCLI.dll\")\n",
    "clr.AddReference(\"C:\\\\Program Files\\\\Thorlabs\\\\Kinesis\\\\Thorlabs.MotionControl.GenericMotorCLI.dll\")\n",
    "clr.AddReference(\"C:\\\\Program Files\\\\Thorlabs\\\\Kinesis\\\\ThorLabs.MotionControl.KCube.StepperMotorCLI.dll\")\n",
    "from Thorlabs.MotionControl.DeviceManagerCLI import *\n",
    "from Thorlabs.MotionControl.GenericMotorCLI import *\n",
    "from Thorlabs.MotionControl.KCube.StepperMotorCLI import *\n",
    "from System import Decimal  # necessary for real world units"
   ]
  },
  {
   "cell_type": "code",
   "execution_count": 34,
   "metadata": {},
   "outputs": [
    {
     "name": "stdout",
     "output_type": "stream",
     "text": [
      "KST101 Stepper Controller       v3.1          1\n"
     ]
    }
   ],
   "source": [
    "SimulationManager.Instance.InitializeSimulations()\n",
    "DeviceManagerCLI.BuildDeviceList()\n",
    "# create new device\n",
    "serial_no = \"26002086\"  # Replace this line with your device's serial number\n",
    "device = KCubeStepper.CreateKCubeStepper(serial_no)\n",
    " # Connect\n",
    "device.Connect(serial_no)\n",
    "time.sleep(0.25)  # wait statements are important to allow settings to be sent to the device\n",
    "# Start polling and enable\n",
    "device.StartPolling(250)  #250ms polling rate\n",
    "\n",
    "device.EnableDevice()\n",
    "time.sleep(0.25)  # Wait for device to enable\n",
    "# Get Device Information and display description\n",
    "device_info = device.GetDeviceInfo()\n",
    "print(device_info.Description)\n",
    "# Configure device#\n",
    "use_file_settings = DeviceConfiguration.DeviceSettingsUseOptionType.UseFileSettings\n",
    "device_config = device.LoadMotorConfiguration(device.DeviceID, use_file_settings)"
   ]
  },
  {
   "cell_type": "code",
   "execution_count": 35,
   "metadata": {},
   "outputs": [
    {
     "name": "stdout",
     "output_type": "stream",
     "text": [
      "Homing Velocity: 4.56\n",
      "Homing Motor...\n"
     ]
    },
    {
     "ename": "KeyboardInterrupt",
     "evalue": "",
     "output_type": "error",
     "traceback": [
      "\u001b[1;31m---------------------------------------------------------------------------\u001b[0m",
      "\u001b[1;31mKeyboardInterrupt\u001b[0m                         Traceback (most recent call last)",
      "Cell \u001b[1;32mIn[35], line 6\u001b[0m\n\u001b[0;32m      4\u001b[0m \u001b[39m# Home device\u001b[39;00m\n\u001b[0;32m      5\u001b[0m \u001b[39mprint\u001b[39m(\u001b[39m\"\u001b[39m\u001b[39mHoming Motor...\u001b[39m\u001b[39m\"\u001b[39m)\n\u001b[1;32m----> 6\u001b[0m device\u001b[39m.\u001b[39;49mHome(\u001b[39m60000\u001b[39;49m)  \u001b[39m# 60 seconds\u001b[39;00m\n\u001b[0;32m      7\u001b[0m \u001b[39mprint\u001b[39m(\u001b[39m\"\u001b[39m\u001b[39mMotor Homed.\u001b[39m\u001b[39m\"\u001b[39m)\n",
      "\u001b[1;31mKeyboardInterrupt\u001b[0m: "
     ]
    }
   ],
   "source": [
    "home_params = device.GetHomingParams()\n",
    "print(f'Homing Velocity: {home_params.Velocity}')\n",
    "\n",
    "# Home device\n",
    "print(\"Homing Motor...\")\n",
    "device.Home(60000)  # 60 seconds\n",
    "print(\"Motor Homed.\")"
   ]
  },
  {
   "cell_type": "code",
   "execution_count": null,
   "metadata": {},
   "outputs": [],
   "source": [
    "new_pos = Decimal(69.5)  # in Real Units\n",
    "device.MoveTo(new_pos, 60000)"
   ]
  },
  {
   "cell_type": "code",
   "execution_count": null,
   "metadata": {},
   "outputs": [],
   "source": [
    "# Stop Polling and Disconnect\n",
    "device.StopPolling()\n",
    "device.Disconnect()"
   ]
  }
 ],
 "metadata": {
  "kernelspec": {
   "display_name": "Python 3",
   "language": "python",
   "name": "python3"
  },
  "language_info": {
   "codemirror_mode": {
    "name": "ipython",
    "version": 3
   },
   "file_extension": ".py",
   "mimetype": "text/x-python",
   "name": "python",
   "nbconvert_exporter": "python",
   "pygments_lexer": "ipython3",
   "version": "3.9.16"
  },
  "orig_nbformat": 4
 },
 "nbformat": 4,
 "nbformat_minor": 2
}
